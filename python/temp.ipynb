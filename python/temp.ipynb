{
 "cells": [
  {
   "cell_type": "code",
   "execution_count": 1,
   "id": "ff3fc438",
   "metadata": {},
   "outputs": [],
   "source": [
    "from rubiksCubeSolver import RubiksCubeSolver\n",
    "from sympy.combinatorics.perm_groups import Permutation,PermutationGroup\n",
    "from datetime import datetime\n",
    "from itertools import chain\n",
    "rubiksCubeSolver = RubiksCubeSolver()\n",
    "\n",
    "state = rubiksCubeSolver.random_state(seed=2)"
   ]
  },
  {
   "cell_type": "code",
   "execution_count": 2,
   "id": "b2a59593",
   "metadata": {},
   "outputs": [
    {
     "name": "stdout",
     "output_type": "stream",
     "text": [
      "['D', '-B', 'R', '-F', 'B', 'D', 'D', 'F', '-B', 'R', 'B', '-D', '-R', '-R', '-L', 'B', 'R', 'L', '-R', '-R', '-D', '-R', '-L', '-B', '-B', 'L', '-R', 'D', 'D', 'R', '-B', 'T', '-F', 'B', '-R', 'T', 'R', '-T', 'F', '-B', 'L', '-T', '-L', 'B', 'R', '-T', '-R', 'L', 'B', '-L', '-L', 'B', 'D', '-T', 'B', 'T', '-D', '-L', '-B', 'L', 'D', 'B', 'L', '-B', '-D', '-F', '-T', '-L', 'T', 'F', '-B', '-L', 'R', 'T', 'L', '-R', 'B', '-L', 'R', '-T', 'L', '-R', '-F', 'D', 'F', '-D', '-D', '-D', '-T', '-L', '-L', 'T', '-D', 'F', '-D', 'F', '-L', 'B', 'L', 'F', '-B', '-D', '-F', 'L', '-R', 'L', '-F', '-L', 'R', 'D', '-R', '-T', '-L', '-D', 'T', 'F', 'D', '-L', 'R', '-D', '-R', 'L', 'F', 'R', 'R', '-T', '-R', 'L', 'B', '-L', '-T', '-T', 'B', '-T', '-T', '-T', '-D', '-L', 'D', 'T', 'R', '-L', '-D', '-D', 'L', '-R', 'F', 'F', '-L', '-T', 'D', 'B', 'T', '-D', '-R', 'B', '-D', '-D', '-B', 'F', 'R', 'R', '-F', 'R', 'T', '-F', 'T', 'R', 'T', 'T', 'R', 'R', 'F', 'R', '-D', 'R', 'D', '-R', 'F', 'L', 'F', '-L', '-D', '-F', 'D', '-L', 'R', 'L', '-D', '-F', 'D', 'F', '-T', '-L', 'T', 'F', '-D', '-B', '-F', '-B', 'T', 'B', 'B', '-D', '-F', 'D', '-R', 'D', 'R', 'D', '-F', '-B', '-T', 'B', '-L']\n",
      "0:00:00.001940\n"
     ]
    }
   ],
   "source": [
    "start_time = datetime.now()\n",
    "sol = rubiksCubeSolver.solve(state)\n",
    "print(sol)\n",
    "print(datetime.now() - start_time)"
   ]
  },
  {
   "cell_type": "code",
   "execution_count": 3,
   "id": "ae03f69e",
   "metadata": {},
   "outputs": [],
   "source": [
    "solving_process = rubiksCubeSolver.apply_operations(state, sol, process=True)"
   ]
  },
  {
   "cell_type": "code",
   "execution_count": 4,
   "id": "647aa7fa",
   "metadata": {},
   "outputs": [
    {
     "data": {
      "text/plain": [
       "{'T': [2, 1, 5, 0, 0, 3, 5, 3, 3],\n",
       " 'L': [1, 4, 2, 4, 1, 0, 4, 3, 5],\n",
       " 'F': [1, 5, 4, 1, 2, 5, 3, 1, 2],\n",
       " 'R': [0, 0, 1, 2, 3, 3, 0, 0, 2],\n",
       " 'B': [4, 4, 0, 2, 4, 5, 3, 5, 1],\n",
       " 'D': [4, 2, 3, 4, 5, 2, 0, 1, 5]}"
      ]
     },
     "execution_count": 4,
     "metadata": {},
     "output_type": "execute_result"
    }
   ],
   "source": [
    "state"
   ]
  },
  {
   "cell_type": "code",
   "execution_count": 6,
   "id": "3a881d3a",
   "metadata": {},
   "outputs": [
    {
     "data": {
      "text/plain": [
       "{'T': [2, 1, 5, 0, 0, 3, 5, 3, 3],\n",
       " 'L': [1, 4, 2, 4, 1, 0, 3, 1, 2],\n",
       " 'F': [1, 5, 4, 1, 2, 5, 0, 0, 2],\n",
       " 'R': [0, 0, 1, 2, 3, 3, 3, 5, 1],\n",
       " 'B': [4, 4, 0, 2, 4, 5, 4, 3, 5],\n",
       " 'D': [3, 2, 5, 2, 5, 1, 4, 4, 0]}"
      ]
     },
     "execution_count": 6,
     "metadata": {},
     "output_type": "execute_result"
    }
   ],
   "source": [
    "solving_process[0]"
   ]
  }
 ],
 "metadata": {
  "kernelspec": {
   "display_name": "common-use",
   "language": "python",
   "name": "python3"
  },
  "language_info": {
   "codemirror_mode": {
    "name": "ipython",
    "version": 3
   },
   "file_extension": ".py",
   "mimetype": "text/x-python",
   "name": "python",
   "nbconvert_exporter": "python",
   "pygments_lexer": "ipython3",
   "version": "3.12.9"
  }
 },
 "nbformat": 4,
 "nbformat_minor": 5
}
