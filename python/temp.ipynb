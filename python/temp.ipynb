{
 "cells": [
  {
   "cell_type": "code",
   "execution_count": 1,
   "id": "ff3fc438",
   "metadata": {},
   "outputs": [],
   "source": [
    "from rubiksCubeSolver import RubiksCubeSolver\n",
    "from sympy.combinatorics.perm_groups import Permutation,PermutationGroup\n",
    "from datetime import datetime\n",
    "from itertools import chain\n",
    "rubiksCubeSolver = RubiksCubeSolver()\n",
    "\n",
    "init_state = {\n",
    "    k : [i] * 9 for i, k in enumerate(\"TLFRBD\")\n",
    "}\n",
    "state = {\n",
    "    \"T\": [2, 1, 3, 1, 0, 5, 4, 4, 0],\n",
    "    \"L\": [5, 5, 1, 5, 1, 3, 2, 4, 0],\n",
    "    \"F\": [0, 1, 1, 2, 2, 1, 4, 0, 5],\n",
    "    \"R\": [2, 4, 0, 0, 3, 3, 4, 0, 4],\n",
    "    \"B\": [2, 2, 1, 4, 4, 2, 5, 3, 5],\n",
    "    \"D\": [3, 3, 1, 0, 5, 2, 3, 5, 3]\n",
    "}"
   ]
  },
  {
   "cell_type": "code",
   "execution_count": 2,
   "id": "b2a59593",
   "metadata": {},
   "outputs": [
    {
     "name": "stdout",
     "output_type": "stream",
     "text": [
      "['-B', 'T', '-F', 'B', '-R', 'T', 'R', '-T', 'F', '-B', 'L', '-T', '-L', 'B', 'R', '-T', '-R', 'L', 'B', '-L', '-L', 'R', '-T', 'L', '-R', 'B', 'L', '-B', '-L', 'R', 'T', '-R', '-F', '-F', 'R', '-L', 'D', 'D', 'L', '-F', '-F', '-R', 'L', 'T', 'T', '-L', 'R', '-L', 'T', '-R', 'L', '-B', '-F', '-B', '-T', 'B', '-F', '-B', 'F', 'D', 'R', 'T', '-D', 'F', '-T', 'B', '-D', 'T', '-L', 'D', 'B', '-L', 'R', '-T', 'L', '-R', '-R', '-F', '-F', 'D', '-T', 'L', 'L', 'T', '-D', 'R', '-L', '-R', '-D', 'L', '-R', 'F', 'R', '-F', '-L', 'R', 'D', 'L', 'R', '-L', '-D', '-D', 'L', '-R', 'F', '-D', 'F', 'D', 'F', 'D', '-F', '-F', '-F', '-D', '-F', '-D', '-R', 'L', 'T', 'R', '-L', '-F', 'T', '-F', 'T', 'R', 'T', 'T', 'R', 'R', 'F', 'R', '-D', 'R', 'D', 'T', 'B', '-T', '-R', '-D', '-B', 'R', 'B', '-F', '-D', 'F', '-R', 'T', 'B', 'B', '-T', '-L', '-R', '-B', 'L', '-F', '-T', 'L', 'D', 'T', '-R', '-R', '-B', '-L', 'B', '-L', 'T', '-R', 'T', 'R', '-L']\n",
      "0:00:00.001719\n"
     ]
    }
   ],
   "source": [
    "start_time = datetime.now()\n",
    "sol = rubiksCubeSolver.solve(state)\n",
    "print(sol)\n",
    "print(datetime.now() - start_time)"
   ]
  },
  {
   "cell_type": "code",
   "execution_count": 3,
   "id": "ae03f69e",
   "metadata": {},
   "outputs": [],
   "source": [
    "solving_process = rubiksCubeSolver.apply_operations(state, sol, process=True)"
   ]
  },
  {
   "cell_type": "code",
   "execution_count": 5,
   "id": "3a881d3a",
   "metadata": {},
   "outputs": [
    {
     "data": {
      "text/plain": [
       "{'T': [35, 32, 1, 32, 20, 7, 4, 4, 20],\n",
       " 'L': [7, 7, 32, 7, 32, 1, 35, 4, 20],\n",
       " 'F': [20, 32, 32, 35, 35, 32, 4, 20, 7],\n",
       " 'R': [35, 4, 20, 20, 1, 1, 4, 20, 4],\n",
       " 'B': [35, 35, 32, 4, 4, 35, 7, 1, 7],\n",
       " 'D': [1, 1, 32, 20, 7, 35, 1, 7, 1]}"
      ]
     },
     "execution_count": 5,
     "metadata": {},
     "output_type": "execute_result"
    }
   ],
   "source": [
    "solving_process[1]"
   ]
  }
 ],
 "metadata": {
  "kernelspec": {
   "display_name": "common-use",
   "language": "python",
   "name": "python3"
  },
  "language_info": {
   "codemirror_mode": {
    "name": "ipython",
    "version": 3
   },
   "file_extension": ".py",
   "mimetype": "text/x-python",
   "name": "python",
   "nbconvert_exporter": "python",
   "pygments_lexer": "ipython3",
   "version": "3.12.9"
  }
 },
 "nbformat": 4,
 "nbformat_minor": 5
}
