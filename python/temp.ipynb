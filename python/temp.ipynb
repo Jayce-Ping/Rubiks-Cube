{
 "cells": [
  {
   "cell_type": "code",
   "execution_count": 1,
   "id": "e565456e",
   "metadata": {},
   "outputs": [],
   "source": [
    "from permutation import *\n",
    "from itertools import chain\n",
    "operations = {\n",
    "    \"T\": [[0, 2, 8, 6], [1, 5, 7, 3], [9, 36, 27, 18], [10, 37, 28, 19], [11, 38, 29, 20]],\n",
    "    \"L\": [[0, 18, 45, 44], [3, 21, 48, 41], [6, 24, 51, 38], [9, 11, 17, 15], [10, 14, 16, 12]],\n",
    "    \"F\": [[6, 27, 47, 17], [7, 30, 46, 14], [8, 33, 45, 11], [18, 20, 26, 24], [19, 23, 25, 21]],\n",
    "    \"R\": [[2, 42, 47, 20], [5, 39, 50, 23], [8, 36, 53, 26], [27, 29, 35, 33], [28, 32, 34, 30]],\n",
    "    \"B\": [[0, 15, 53, 29], [1, 12, 52, 32], [2, 9, 51, 35], [36, 38, 44, 42], [37, 41, 43, 39]],\n",
    "    \"D\": [[15, 24, 33, 42], [16, 25, 34, 43], [17, 26, 35, 44], [45, 47, 53, 51], [46, 50, 52, 48]]\n",
    "}\n",
    "generators = {k: Permutation(v, size=54) for k, v in operations.items()}\n",
    "\n",
    "def check_state_valid(state):\n",
    "    state_seq = list(chain.from_iterable(state.values()))\n",
    "    if len(state_seq) != 54:\n",
    "        return False\n",
    "    \n",
    "    def count_pieces(state, num):\n",
    "        return sum(1 for x in state_seq if x == num)\n",
    "    \n",
    "    for i in range(6):\n",
    "        if count_pieces(state_seq, i) != 9:\n",
    "            print(f\"Piece {i} count mismatch: expected 9, found {count_pieces(state_seq, i)}\")\n",
    "            return False\n",
    "    \n",
    "    return True"
   ]
  },
  {
   "cell_type": "code",
   "execution_count": 3,
   "id": "0fe69279",
   "metadata": {},
   "outputs": [],
   "source": [
    "generators_small = [Permutation(v) for v in [[[0, 1, 2, 3]], [[0, 1]]]]\n",
    "g = PermutationGroup(generators_small)"
   ]
  },
  {
   "cell_type": "code",
   "execution_count": 4,
   "id": "fe83ce2c",
   "metadata": {},
   "outputs": [
    {
     "data": {
      "text/plain": [
       "24"
      ]
     },
     "execution_count": 4,
     "metadata": {},
     "output_type": "execute_result"
    }
   ],
   "source": [
    "g.order()"
   ]
  },
  {
   "cell_type": "code",
   "execution_count": 8,
   "id": "c11b0190",
   "metadata": {},
   "outputs": [
    {
     "data": {
      "text/plain": [
       "[Permutation((0,3,2,1)), Permutation((0,1,2)), Permutation((0,1))]"
      ]
     },
     "execution_count": 8,
     "metadata": {},
     "output_type": "execute_result"
    }
   ],
   "source": [
    "p = Permutation([[2,3], [0,1]])\n",
    "decomposition = g.decompose(p)\n",
    "decomposition"
   ]
  },
  {
   "cell_type": "code",
   "execution_count": 9,
   "id": "247c0954",
   "metadata": {},
   "outputs": [
    {
     "data": {
      "text/plain": [
       "Permutation((2,3))"
      ]
     },
     "execution_count": 9,
     "metadata": {},
     "output_type": "execute_result"
    }
   ],
   "source": [
    "permutation_product(*reversed(decomposition))"
   ]
  },
  {
   "cell_type": "code",
   "execution_count": 8,
   "id": "eb0e26b9",
   "metadata": {},
   "outputs": [],
   "source": [
    "g = PermutationGroup(list(generators.values()))"
   ]
  },
  {
   "cell_type": "code",
   "execution_count": 8,
   "id": "37ecf643",
   "metadata": {},
   "outputs": [
    {
     "data": {
      "text/plain": [
       "43252003274489856000"
      ]
     },
     "execution_count": 8,
     "metadata": {},
     "output_type": "execute_result"
    }
   ],
   "source": [
    "g.order() # 43252003274489856000"
   ]
  },
  {
   "cell_type": "code",
   "execution_count": 9,
   "id": "ff3fc438",
   "metadata": {},
   "outputs": [],
   "source": [
    "from rubiksCubeSolver import RubiksCubeSolver\n",
    "from datetime import datetime\n",
    "rubiksCubeSolver = RubiksCubeSolver()\n",
    "\n",
    "state = {\n",
    "    \"T\": [2, 1, 3, 1, 0, 5, 4, 4, 0],\n",
    "    \"L\": [5, 5, 1, 5, 1, 3, 2, 4, 0],\n",
    "    \"F\": [0, 1, 1, 2, 2, 1, 4, 0, 5],\n",
    "    \"R\": [2, 4, 0, 0, 3, 3, 4, 0, 4],\n",
    "    \"B\": [2, 2, 1, 4, 4, 2, 5, 3, 5],\n",
    "    \"D\": [3, 3, 1, 0, 5, 2, 3, 5, 3]\n",
    "}"
   ]
  },
  {
   "cell_type": "code",
   "execution_count": 8,
   "id": "b2a59593",
   "metadata": {},
   "outputs": [
    {
     "name": "stdout",
     "output_type": "stream",
     "text": [
      "['R', 'T', 'L', 'L', 'L', 'T', 'T', 'T', 'L', 'L', 'L', 'T', 'T', 'T', 'L', 'L', 'F', 'R', 'T', 'T', 'T', 'L', 'L', 'T', 'T', 'L', 'L', 'L', 'T', 'T', 'T', 'L', 'R', 'T', 'T', 'L', 'L', 'F', 'T', 'L', 'T', 'T', 'L', 'T', 'T', 'T', 'L', 'T', 'T', 'L', 'R', 'R', 'T', 'T', 'L', 'L', 'L', 'T', 'T', 'L', 'T', 'T', 'T', 'T', 'T', 'T', 'T', 'T', 'L', 'T', 'T', 'T', 'L', 'T', 'T', 'L', 'L', 'L', 'L', 'L', 'L', 'T', 'T', 'T', 'T']\n",
      "0:00:00.012488\n"
     ]
    }
   ],
   "source": [
    "start_time = datetime.now()\n",
    "res = rubiksCubeSolver.solve(state)\n",
    "print(res)\n",
    "print(datetime.now() - start_time)"
   ]
  },
  {
   "cell_type": "code",
   "execution_count": 9,
   "id": "caf9ac50",
   "metadata": {},
   "outputs": [],
   "source": [
    "def apply_operation(state : dict, operation : Permutation) -> dict:\n",
    "    state_seq = list(chain.from_iterable(state.values()))\n",
    "    new_state_seq = operation(state_seq)\n",
    "    # Partition the new state sequence back into the original structure\n",
    "    new_state = {k: new_state_seq[i:i+9] for i, k in zip(range(0, 54, 9), state.keys())}\n",
    "    return new_state"
   ]
  },
  {
   "cell_type": "code",
   "execution_count": 10,
   "id": "d5d1b08a",
   "metadata": {},
   "outputs": [],
   "source": [
    "applied_state = state.copy()\n",
    "for i, operation in enumerate(res):\n",
    "    if not check_state_valid(applied_state):\n",
    "        print(f\"Invalid state after {i} operations: {applied_state}\")\n",
    "        break\n",
    "    applied_state = apply_operation(applied_state, generators[operation])"
   ]
  },
  {
   "cell_type": "code",
   "execution_count": 11,
   "id": "4eaaa7f3",
   "metadata": {},
   "outputs": [
    {
     "data": {
      "text/plain": [
       "85"
      ]
     },
     "execution_count": 11,
     "metadata": {},
     "output_type": "execute_result"
    }
   ],
   "source": [
    "len(res)"
   ]
  },
  {
   "cell_type": "code",
   "execution_count": 12,
   "id": "b5d73054",
   "metadata": {},
   "outputs": [
    {
     "data": {
      "text/plain": [
       "{'T': [3, 2, 5, 2, 0, 5, 5, 1, 5],\n",
       " 'L': [0, 3, 3, 3, 1, 0, 2, 1, 5],\n",
       " 'F': [2, 0, 1, 3, 2, 4, 3, 5, 2],\n",
       " 'R': [4, 1, 2, 0, 3, 1, 0, 0, 0],\n",
       " 'B': [1, 5, 4, 2, 4, 4, 1, 3, 0],\n",
       " 'D': [4, 4, 3, 4, 5, 2, 1, 5, 4]}"
      ]
     },
     "execution_count": 12,
     "metadata": {},
     "output_type": "execute_result"
    }
   ],
   "source": [
    "applied_state"
   ]
  },
  {
   "cell_type": "code",
   "execution_count": 13,
   "id": "2f5a3a7c",
   "metadata": {},
   "outputs": [],
   "source": [
    "product = Permutation()\n",
    "for gen_index in res:\n",
    "    product = product * generators[gen_index]"
   ]
  },
  {
   "cell_type": "code",
   "execution_count": 14,
   "id": "39777c5e",
   "metadata": {},
   "outputs": [
    {
     "data": {
      "text/plain": [
       "{'T': [3, 2, 5, 2, 0, 5, 5, 1, 5],\n",
       " 'L': [0, 3, 3, 3, 1, 0, 2, 1, 5],\n",
       " 'F': [2, 0, 1, 3, 2, 4, 3, 5, 2],\n",
       " 'R': [4, 1, 2, 0, 3, 1, 0, 0, 0],\n",
       " 'B': [1, 5, 4, 2, 4, 4, 1, 3, 0],\n",
       " 'D': [4, 4, 3, 4, 5, 2, 1, 5, 4]}"
      ]
     },
     "execution_count": 14,
     "metadata": {},
     "output_type": "execute_result"
    }
   ],
   "source": [
    "apply_operation(state, product)"
   ]
  }
 ],
 "metadata": {
  "kernelspec": {
   "display_name": "common-use",
   "language": "python",
   "name": "python3"
  },
  "language_info": {
   "codemirror_mode": {
    "name": "ipython",
    "version": 3
   },
   "file_extension": ".py",
   "mimetype": "text/x-python",
   "name": "python",
   "nbconvert_exporter": "python",
   "pygments_lexer": "ipython3",
   "version": "3.12.9"
  }
 },
 "nbformat": 4,
 "nbformat_minor": 5
}
